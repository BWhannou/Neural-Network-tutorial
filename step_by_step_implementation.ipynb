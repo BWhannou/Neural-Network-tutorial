{
 "cells": [
  {
   "cell_type": "code",
   "execution_count": 167,
   "metadata": {},
   "outputs": [],
   "source": [
    "import numpy as np\n",
    "import matplotlib.pyplot as plt\n",
    "import pandas as pd\n",
    "import random as rand\n",
    "import sklearn.linear_model as lm"
   ]
  },
  {
   "cell_type": "markdown",
   "metadata": {},
   "source": [
    "# Introduction"
   ]
  },
  {
   "cell_type": "markdown",
   "metadata": {},
   "source": [
    "Neural networks are a type of machine learning algorithms developped to solved classification or regression problem. They mimic the way our humain brain works.\n",
    "\n",
    "Let's go in the shoes of a brillant doctor (if you are a TV show savvy like me, you can choose to be Dr House, Dr Aaron Glassman or Dr Cristina Yang) and explain how the brain works. The brain is a collection of neurons linked with one another. They are composed with multiple ***dentrites*** and an ***axon***. those elements allow the neurons to be connected to each other. The physical location where the neurons are connected is called ***synapses***. The intensity of this connection is variable.\n",
    "\n",
    "To put it in a nutshell, a neuron transmits information to an other neuron through the connection axon/dentrites and this connection is as strong as the synapses. The inputs are taken through the dentrites which ***activates*** the neuron and when the neuron is activated, it transmits information to another neuron via its axon.\n",
    "\n",
    "![](maxresdefault.jpg)"
   ]
  },
  {
   "cell_type": "markdown",
   "metadata": {},
   "source": [
    "Those notions are important for themselves. But if I put you in the shoes of a physicist, it is not just for the pleasure of the experience. I think it will give a good background for the remainder of this exposé. If you are interested to know how the machine learning and the neuroscience are intertwined, I recommand you to read [this article](http://www.columbia.edu/cu/appliedneuroshp/Papers/out.pdf)"
   ]
  },
  {
   "cell_type": "markdown",
   "metadata": {},
   "source": [
    "# A traditional machine learning model: Logistic Regression Classifier"
   ]
  },
  {
   "cell_type": "markdown",
   "metadata": {},
   "source": [
    "## Classical representation of the Logistic Regression"
   ]
  },
  {
   "cell_type": "markdown",
   "metadata": {},
   "source": [
    "The Logistic Regression Classifier (LRC) is used to make predictions on binary variable. In this section, I want to represent the LRC as a neuron or, more precisely, as a perceptron. But first, what is the standard representation of the LCR? (It will get a bit theoretical but bear with me, it is for the higher good)\n",
    "\n",
    "Let's suppose, we have a set $\\{(\\hat{X}_i,\\hat{y}_i), i \\in [[0,n]]\\}$ such as $\\forall i, \\hat{y}_i \\in \\{0,1\\}$ and $\\hat{X}_i \\in R^m$.\n",
    "We would expect that a \"machine learns\" on this dataset means that we find a function $f_\\theta$ such as:\n",
    "$$\\forall i \\in [[0,n]], f_\\theta (\\hat{X}_i) = \\hat{y}_i$$\n",
    "However, there are many things wrong (or too optimistic, to put it mildly) with this expectation. let's take two points:\n",
    "\n",
    "1. **Lack of Generalisation**: The goal of a machine learning model is not to avoid mistakes but to estimate the general rule which explain the output ($y_i$) from the input ($X_i$). This general rule is only partially defined by the observed dataset because there is a noise in the measure, which means, instead of observing the true $(X_i,y_i)$ we have a noisy $(\\hat{X}_i,\\hat{y}_i)$\n",
    "2. **Smoothness**: The function $f_\\theta$ is defined as a function from $R^m$ to $\\{0,1\\}$. So this function is not continuous. However, to ease the computation endeavor to calibrate (or identify) the parameter $\\theta$ some level of smoothness is needed.\n",
    "\n",
    "So, in the Logistic Regression framework, we will say that \"the machine has learned\" when it finds the parameter $\\theta$ which minimizes:\n",
    "$$ J(\\theta) = - \\frac{1}{n}\\sum_{i=1}^{n} \\bigg(y_i.log(f_\\theta{}(X_i))+(1-y_i)log(1-f_\\theta{}(X_i))\\bigg) \\tag{1}$$\n",
    "\n",
    "$J$ is called the cost function (This is the **cross-entropy error**). Hence, instead of trying to have an equality between the estimate and the observed value, we try to reduce the cost (or the error) to a minimum. This will allow our machine to have a better generalisation power.\n",
    "\n",
    "Moreover, $f_\\theta$ does not try to replicate the output, per se. Instead, it will try to estimate the probability of an observation having $y=1$. $f_\\theta$ is the sigmoid function:\n",
    "$$f_\\theta(X)=\\frac{1}{1+e^{-X\\theta^T}} \\tag{2}$$\n",
    "\n",
    "So, the cost function and the sigmoid function resolve our two issues (lack of generalisation and smoothness).\n",
    "\n",
    "All this is a bit theoretical, but with this understanding, we are already equiped to do some interpretations. If we assume $P(Y=1|X)=\\frac{1}{1+e^{-X\\theta^T}}$ (as the LRC does), the risk ratio 1/0 is $Ratio_{1/0}(X):=\\frac{P(Y=1|X)}{P(Y=0|X)}=\\frac{P(Y=1|X)}{1-P(Y=1|X)}=e^{X\\theta^T}$\n",
    "\n",
    "therefore, $$\\frac{1}{Ratio_{1/0}}\\times\\frac{\\partial Ratio_{1/0}}{\\partial X}=\\theta^T$$\n",
    "\n",
    "TADA! This equation says that the relative increase of the risk with a slight increase of $X$ is $\\theta^T$"
   ]
  },
  {
   "cell_type": "code",
   "execution_count": 168,
   "metadata": {},
   "outputs": [],
   "source": [
    "def sigmoid(X,theta):\n",
    "    \"\"\" computation of a sigmoid: X is the matrix of characteristics (row: observations. columns:characteristics)\n",
    "    theta is the parameter (1 row)\"\"\"\n",
    "    res = X.dot(theta.T)\n",
    "    res = 1/(1+np.exp(-res))\n",
    "    return res"
   ]
  },
  {
   "cell_type": "code",
   "execution_count": 169,
   "metadata": {},
   "outputs": [],
   "source": [
    "X_ex = np.matrix(np.linspace(-100,100)).T\n",
    "theta = np.matrix([0.25])\n",
    "sig = sigmoid(X_ex,theta)"
   ]
  },
  {
   "cell_type": "code",
   "execution_count": 170,
   "metadata": {},
   "outputs": [
    {
     "data": {
      "image/png": "[encoded data removed]",
      "text/plain": [
       "<Figure size 432x288 with 1 Axes>"
      ]
     },
     "metadata": {
      "needs_background": "light"
     },
     "output_type": "display_data"
    }
   ],
   "source": [
    "plt.figure()\n",
    "plt.plot(X_ex,sig)\n",
    "plt.title(\"sigmoid function\")\n",
    "plt.show()"
   ]
  },
  {
   "cell_type": "markdown",
   "metadata": {},
   "source": [
    "## Neural network representation"
   ]
  },
  {
   "cell_type": "markdown",
   "metadata": {},
   "source": [
    "In the last section, we saw the classic representation of the LCR and how to interpret the parameter. In this section, I want to make a link between the neuroscience experience we did (remember? Dr Aaron Glassman taking a look in the function of the neuron?) and the logistic regression model.\n",
    "\n",
    "Just as a remainder, for the LRC, We have $P_\\theta(Y=1|X)=\\frac{1}{1+e^{-X\\theta^T}}$, where $Y$ is the target and $X$ are the features.\n",
    "\n",
    "Now let's suppose that an imaginary (or artificial ;) ) neuron receives a number of inputs through the synapses it has with other. For each flow of input $i$ and each synapses $j$, the information $X_{i,j}$ is attenuated or strenghtened by the synapses $j$. Hence, the neuron receives the information $X_{i,j}\\times\\theta_j$. \n",
    "The activation neuron unleashes a flow of information. In order to join the LCR and the function of the neuron, the information transmitted is $f_\\theta(X_i)$: $f_\\theta$ is called the **activation** function.\n",
    "\n",
    "To sum up:\n",
    "1. One flow of input $i$ is an observation of our dataset ($X_{i}$)\n",
    "2. Each dendrite $j$ is capable to capture one characteristic ($X_{.,j}$)\n",
    "3. The dendrite has a synapse which strengthens by $\\theta_j$ the information $X_{i,j}$\n",
    "4. The activation function is the sigmoid function in the case of LRC\n",
    "\n",
    "Great! The circle is almost complete! We now have to understand how the machine learns. Really! How do we estimate the vector $\\theta$? (Hint: gradient descent :) )"
   ]
  },
  {
   "cell_type": "markdown",
   "metadata": {},
   "source": [
    "## Learning process"
   ]
  },
  {
   "cell_type": "markdown",
   "metadata": {},
   "source": [
    "Now, we know that the Logistic Regression is a neuron which receives a flow of information through its dendrites, modifies this information with the synapses, activates itself by transmitting information with the activation function. So a neuron is defined by the strength of its synapses ($(\\theta_j)\\in R^m$) and its activation function (for the Logistic Regression, it is, by definition, the sigmoid).\n",
    "\n",
    "Therefore, to resolve our problem, we need to determine the vector $(\\theta_j)$. This vector has the important role to capture the general rule linking the input with the output. For the purpose of a good generalization, $\\theta$ is defined as: \n",
    "\n",
    "$$\\arg\\min_{\\theta}J(\\theta) =\\arg\\min_{\\theta} \\Bigg (- \\frac{1}{n}\\sum_{i=1}^{n} \\bigg(y_i.log(f_\\theta{}(X_i))+(1-y_i)log(1-f_\\theta{}(X_i))\\bigg)\\Bigg ) \\tag{3}$$\n",
    "\n",
    "The learning process is \"just\" an optimization problem. There is an extensive litterature on the subject. Maybe I will do an other Notebook on this subject. But for now, I recommend you this [post](https://towardsdatascience.com/gradient-descent-algorithm-and-its-variants-10f652806a3): he presents the algorithm Batch Gradient descent that will use. For further reading, you can also read this [post](https://towardsdatascience.com/10-gradient-descent-optimisation-algorithms-86989510b5e9)"
   ]
  },
  {
   "cell_type": "markdown",
   "metadata": {},
   "source": [
    "### Batch Gradient descent"
   ]
  },
  {
   "cell_type": "markdown",
   "metadata": {},
   "source": [
    "The idea of the gradient descent is to find the minimum of a function by using the \"direction\" of the derivative (or gradient). Suppose you are at the top of a montain and in order to get to the bottom, each step you take is the one in the opposite direction of the montain's top. I won't go further in this algorithm. You can read the posts, I mentionned above... :)"
   ]
  },
  {
   "cell_type": "markdown",
   "metadata": {},
   "source": [
    "We will use a mock dataset to show how perform the caliration. This dataset contains the 2 notes of 100 students and a categorical variable showing whether the students were admitted at the end of the year."
   ]
  },
  {
   "cell_type": "code",
   "execution_count": 171,
   "metadata": {},
   "outputs": [],
   "source": [
    "dataset_1 = pd.read_csv(\"Datasets/ex2data1.txt\",header=None,names=[\"Exam 1 score\",\"Exam 2 score\",\"Admission\"])\n",
    "feature_trick =np.repeat(1,dataset_1.shape[0])\n",
    "dataset_1.insert(0,\"bias\",feature_trick)"
   ]
  },
  {
   "cell_type": "code",
   "execution_count": 172,
   "metadata": {},
   "outputs": [
    {
     "data": {
      "image/png": "[encoded data removed]",
      "text/plain": [
       "<Figure size 720x576 with 1 Axes>"
      ]
     },
     "metadata": {
      "needs_background": "light"
     },
     "output_type": "display_data"
    }
   ],
   "source": [
    "fig,ax = plt.subplots()\n",
    "ax.set_title(\"Admission level in relation to the Exam scores\")\n",
    "col={0:\"purple\",1:\"red\"}\n",
    "lab={0:\"Not admitted\",1:\"Admitted\"}\n",
    "\n",
    "\n",
    "grouped = dataset_1.groupby(\"Admission\")\n",
    "for key, data in grouped:\n",
    "    data.plot.scatter(ax=ax,x=\"Exam 1 score\",y=\"Exam 2 score\",label=lab[key],color=col[key],figsize=(10,8))"
   ]
  },
  {
   "cell_type": "code",
   "execution_count": 173,
   "metadata": {},
   "outputs": [
    {
     "data": {
      "text/html": [
       "<div>\n",
       "<style scoped>\n",
       "    .dataframe tbody tr th:only-of-type {\n",
       "        vertical-align: middle;\n",
       "    }\n",
       "\n",
       "    .dataframe tbody tr th {\n",
       "        vertical-align: top;\n",
       "    }\n",
       "\n",
       "    .dataframe thead th {\n",
       "        text-align: right;\n",
       "    }\n",
       "</style>\n",
       "<table border=\"1\" class=\"dataframe\">\n",
       "  <thead>\n",
       "    <tr style=\"text-align: right;\">\n",
       "      <th></th>\n",
       "      <th>bias</th>\n",
       "      <th>Exam 1 score</th>\n",
       "      <th>Exam 2 score</th>\n",
       "      <th>Admission</th>\n",
       "    </tr>\n",
       "  </thead>\n",
       "  <tbody>\n",
       "    <tr>\n",
       "      <th>0</th>\n",
       "      <td>1</td>\n",
       "      <td>34.623660</td>\n",
       "      <td>78.024693</td>\n",
       "      <td>0</td>\n",
       "    </tr>\n",
       "    <tr>\n",
       "      <th>1</th>\n",
       "      <td>1</td>\n",
       "      <td>30.286711</td>\n",
       "      <td>43.894998</td>\n",
       "      <td>0</td>\n",
       "    </tr>\n",
       "    <tr>\n",
       "      <th>2</th>\n",
       "      <td>1</td>\n",
       "      <td>35.847409</td>\n",
       "      <td>72.902198</td>\n",
       "      <td>0</td>\n",
       "    </tr>\n",
       "    <tr>\n",
       "      <th>3</th>\n",
       "      <td>1</td>\n",
       "      <td>60.182599</td>\n",
       "      <td>86.308552</td>\n",
       "      <td>1</td>\n",
       "    </tr>\n",
       "    <tr>\n",
       "      <th>4</th>\n",
       "      <td>1</td>\n",
       "      <td>79.032736</td>\n",
       "      <td>75.344376</td>\n",
       "      <td>1</td>\n",
       "    </tr>\n",
       "  </tbody>\n",
       "</table>\n",
       "</div>"
      ],
      "text/plain": [
       "   bias  Exam 1 score  Exam 2 score  Admission\n",
       "0     1     34.623660     78.024693          0\n",
       "1     1     30.286711     43.894998          0\n",
       "2     1     35.847409     72.902198          0\n",
       "3     1     60.182599     86.308552          1\n",
       "4     1     79.032736     75.344376          1"
      ]
     },
     "execution_count": 173,
     "metadata": {},
     "output_type": "execute_result"
    }
   ],
   "source": [
    "dataset_1.head()"
   ]
  },
  {
   "cell_type": "markdown",
   "metadata": {},
   "source": [
    "* **The functions**: We define the functions, we will use to help our machine learns: The cost function, its gradient and the algorithm of the gradient descent."
   ]
  },
  {
   "cell_type": "code",
   "execution_count": 174,
   "metadata": {},
   "outputs": [],
   "source": [
    "def cost_function(X,y,theta):\n",
    "    \"\"\"X is the matrix of characteristics (row: observations. columns:characteristics)\n",
    "    theta is the parameter (1 row)\"\"\"\n",
    "    n = X.shape[0]\n",
    "    \n",
    "    activation_info = sigmoid(X,theta)\n",
    "    #print(activation_info)\n",
    "    term_A = np.multiply(np.log(activation_info),y)\n",
    "    term_B = np.multiply(1-y,np.log(1-activation_info))\n",
    "    \n",
    "    res = -(1/n)*(sum(term_A)+sum(term_B))\n",
    "    res=res[0,0]\n",
    "    return(res)"
   ]
  },
  {
   "cell_type": "markdown",
   "metadata": {},
   "source": [
    "**The gradient of the cost**"
   ]
  },
  {
   "cell_type": "markdown",
   "metadata": {},
   "source": [
    "$$\n",
    "\\begin{align}\n",
    "\\frac{\\partial J(\\theta)}{\\partial \\theta}& = & -\\frac{1}{n}\\sum_{i=1}^{n}\\bigg(y_i X_i \\frac{e^{-X_i \\theta^T}}{1+e^{-X_i \\theta^T}}-(1-y_i)X_i\\frac{1}{1+e^{-X_i \\theta^T}}\\bigg)\\\\\n",
    "& = & -\\frac{1}{n} \\sum_{i=1}^{n}\\bigg(y_i (1-f_\\theta (X_i))-(1-y_i) f_\\theta (X_i)\\bigg)X_i\\\\\n",
    "& = & -\\frac{1}{n} \\sum_{i=1}^{n} (y_i - f_\\theta (X_i))X_i\n",
    "\\end{align}$$"
   ]
  },
  {
   "cell_type": "code",
   "execution_count": 175,
   "metadata": {},
   "outputs": [],
   "source": [
    "def derivate_cost(X,y,theta):\n",
    "    n=X.shape[0]\n",
    "    activation_info = sigmoid(X,theta)\n",
    "    res = -(1/n)*((y-activation_info).T.dot(X))\n",
    "    return(res)"
   ]
  },
  {
   "cell_type": "code",
   "execution_count": 176,
   "metadata": {},
   "outputs": [],
   "source": [
    "def gradient_descent(X,y,theta_init,learning_rate,iter_limit=2):\n",
    "    \n",
    "    theta_temp=theta_init\n",
    "    columns_theta = ['theta_'+str(x) for x in range(0,theta_init.shape[1])]\n",
    "    costs=[cost_function(X,y,theta_init)]\n",
    "    thetas=pd.DataFrame(theta_init,columns=columns_theta)\n",
    "    i=0\n",
    "    while i<iter_limit:\n",
    "        theta_temp=theta_temp - (learning_rate)*derivate_cost(X,y,theta_temp)\n",
    "        costs.append(cost_function(X,y,theta_temp))\n",
    "\n",
    "        thetas=pd.concat([thetas,pd.DataFrame(theta_temp,columns=columns_theta)],ignore_index=True)\n",
    "        i=i+1\n",
    "    \n",
    "    return({\"theta_final\":theta_temp,\"costs\":costs,\"thetas\":thetas})\n"
   ]
  },
  {
   "cell_type": "code",
   "execution_count": 177,
   "metadata": {},
   "outputs": [
    {
     "data": {
      "text/plain": [
       "7.606526309794523"
      ]
     },
     "execution_count": 177,
     "metadata": {},
     "output_type": "execute_result"
    }
   ],
   "source": [
    "data=np.matrix(dataset_1.loc[:,[\"Exam 1 score\",\"Exam 2 score\"]])\n",
    "target=np.matrix(dataset_1.Admission).T\n",
    "theta = np.matrix([0.25,0.11])\n",
    "\n",
    "cost_function(X = data,y=target,theta=theta)"
   ]
  },
  {
   "cell_type": "code",
   "execution_count": 178,
   "metadata": {},
   "outputs": [
    {
     "data": {
      "text/plain": [
       "matrix([[20.81291666, 21.8481514 ]])"
      ]
     },
     "execution_count": 178,
     "metadata": {},
     "output_type": "execute_result"
    }
   ],
   "source": [
    "derivate_cost(X = data,y=target,theta=theta)"
   ]
  },
  {
   "cell_type": "code",
   "execution_count": 179,
   "metadata": {
    "scrolled": true
   },
   "outputs": [],
   "source": [
    "data=np.matrix(dataset_1.loc[:,[\"bias\",\"Exam 1 score\",\"Exam 2 score\"]])\n",
    "target=np.matrix(dataset_1.Admission).T\n",
    "theta = np.matrix([90,-1,-1])\n",
    "\n",
    "test =gradient_descent(X=data,y=target,theta_init=theta,learning_rate=0.000006,iter_limit=1000)"
   ]
  },
  {
   "cell_type": "code",
   "execution_count": 187,
   "metadata": {},
   "outputs": [
    {
     "data": {
      "text/html": [
       "<div>\n",
       "<style scoped>\n",
       "    .dataframe tbody tr th:only-of-type {\n",
       "        vertical-align: middle;\n",
       "    }\n",
       "\n",
       "    .dataframe tbody tr th {\n",
       "        vertical-align: top;\n",
       "    }\n",
       "\n",
       "    .dataframe thead th {\n",
       "        text-align: right;\n",
       "    }\n",
       "</style>\n",
       "<table border=\"1\" class=\"dataframe\">\n",
       "  <thead>\n",
       "    <tr style=\"text-align: right;\">\n",
       "      <th></th>\n",
       "      <th>theta_0</th>\n",
       "      <th>theta_1</th>\n",
       "      <th>theta_2</th>\n",
       "    </tr>\n",
       "  </thead>\n",
       "  <tbody>\n",
       "    <tr>\n",
       "      <th>996</th>\n",
       "      <td>90.002680</td>\n",
       "      <td>-0.772729</td>\n",
       "      <td>-0.779069</td>\n",
       "    </tr>\n",
       "    <tr>\n",
       "      <th>997</th>\n",
       "      <td>90.002682</td>\n",
       "      <td>-0.772551</td>\n",
       "      <td>-0.778902</td>\n",
       "    </tr>\n",
       "    <tr>\n",
       "      <th>998</th>\n",
       "      <td>90.002683</td>\n",
       "      <td>-0.772374</td>\n",
       "      <td>-0.778735</td>\n",
       "    </tr>\n",
       "    <tr>\n",
       "      <th>999</th>\n",
       "      <td>90.002685</td>\n",
       "      <td>-0.772196</td>\n",
       "      <td>-0.778569</td>\n",
       "    </tr>\n",
       "    <tr>\n",
       "      <th>1000</th>\n",
       "      <td>90.002687</td>\n",
       "      <td>-0.772019</td>\n",
       "      <td>-0.778402</td>\n",
       "    </tr>\n",
       "  </tbody>\n",
       "</table>\n",
       "</div>"
      ],
      "text/plain": [
       "        theta_0   theta_1   theta_2\n",
       "996   90.002680 -0.772729 -0.779069\n",
       "997   90.002682 -0.772551 -0.778902\n",
       "998   90.002683 -0.772374 -0.778735\n",
       "999   90.002685 -0.772196 -0.778569\n",
       "1000  90.002687 -0.772019 -0.778402"
      ]
     },
     "execution_count": 187,
     "metadata": {},
     "output_type": "execute_result"
    }
   ],
   "source": [
    "test[\"thetas\"].tail()"
   ]
  },
  {
   "cell_type": "code",
   "execution_count": 180,
   "metadata": {},
   "outputs": [
    {
     "data": {
      "image/png": "[encoded data removed]",
      "text/plain": [
       "<Figure size 720x576 with 1 Axes>"
      ]
     },
     "metadata": {
      "needs_background": "light"
     },
     "output_type": "display_data"
    }
   ],
   "source": [
    "fi,ax=plt.subplots()\n",
    "ax.set_title(\"the evolution of the Cost through the gradient descent\")\n",
    "pd.DataFrame(test[\"costs\"]).plot.line(ax=ax,figsize=(10,8))\n",
    "plt.show()"
   ]
  },
  {
   "cell_type": "code",
   "execution_count": 181,
   "metadata": {},
   "outputs": [],
   "source": [
    "X= range(30,90)\n",
    "b= - test[\"thetas\"].iloc[-1,:].theta_0/test[\"thetas\"].iloc[-1,:].theta_2\n",
    "a= -test[\"thetas\"].iloc[-1,:].theta_1/test[\"thetas\"].iloc[-1,:].theta_2\n",
    "y = [b + x*a for x in X]"
   ]
  },
  {
   "cell_type": "code",
   "execution_count": 182,
   "metadata": {},
   "outputs": [],
   "source": [
    "LR = lm.LogisticRegression()\n",
    "LR.fit(X=dataset_1.loc[:,[\"Exam 1 score\",\"Exam 2 score\"]],y=dataset_1.loc[:,\"Admission\"])\n",
    "a1=-LR.coef_[0,0]/LR.coef_[0,1]\n",
    "b1=-LR.intercept_/LR.coef_[0,1]\n",
    "y1 = [b1 + x*a1 for x in X]"
   ]
  },
  {
   "cell_type": "code",
   "execution_count": 183,
   "metadata": {
    "scrolled": false
   },
   "outputs": [
    {
     "data": {
      "image/png": "[encoded data removed]",
      "text/plain": [
       "<Figure size 720x576 with 1 Axes>"
      ]
     },
     "metadata": {
      "needs_background": "light"
     },
     "output_type": "display_data"
    }
   ],
   "source": [
    "fig,ax=plt.subplots()\n",
    "ax.set_title(\"Admission level in relation to the Exam scores\")\n",
    "lab={0:\"Not admitted\",1:\"Admitted\"}\n",
    "col={0:\"purple\",1:\"red\"}\n",
    "grouped =dataset_1.groupby(\"Admission\")\n",
    "for key, data in grouped:\n",
    "    data.plot.scatter(ax=ax,x=\"Exam 1 score\",y=\"Exam 2 score\",label=lab[key],color=col[key],figsize=(10,8))\n",
    "\n",
    "ax.plot(X,y,label=\"LRC built from scratch\")\n",
    "ax.plot(X,y1,label=\"built-in LRC\")\n",
    "ax.legend()\n",
    "plt.show()"
   ]
  },
  {
   "cell_type": "code",
   "execution_count": 184,
   "metadata": {
    "scrolled": true
   },
   "outputs": [
    {
     "name": "stdout",
     "output_type": "stream",
     "text": [
      "the cost of the LRC built from scratch is 19.820\n"
     ]
    }
   ],
   "source": [
    "data=np.matrix(dataset_1.loc[:,[\"bias\",\"Exam 1 score\",\"Exam 2 score\"]])\n",
    "target=np.matrix(dataset_1.Admission).T\n",
    "theta = np.matrix(test[\"thetas\"].iloc[899,:])\n",
    "\n",
    "print(\"the cost of the LRC built from scratch is {:.3f}\".format(cost_function(X = data,y=target,theta=theta)))"
   ]
  },
  {
   "cell_type": "code",
   "execution_count": 185,
   "metadata": {},
   "outputs": [
    {
     "name": "stdout",
     "output_type": "stream",
     "text": [
      "the cost of the built in LRC is 0.203\n"
     ]
    }
   ],
   "source": [
    "theta_builtin = [LR.intercept_[0]]\n",
    "theta_builtin.extend(LR.coef_[0,:])\n",
    "data=np.matrix(dataset_1.loc[:,[\"bias\",\"Exam 1 score\",\"Exam 2 score\"]])\n",
    "target=np.matrix(dataset_1.Admission).T\n",
    "theta = np.matrix(theta_builtin)\n",
    "\n",
    "print(\"the cost of the built in LRC is {:.3f}\".format(cost_function(X = data,y=target,theta=theta)))"
   ]
  },
  {
   "cell_type": "markdown",
   "metadata": {},
   "source": [
    "Our optimization by gradient descent could be improved (an idea for an other article :) )"
   ]
  },
  {
   "cell_type": "markdown",
   "metadata": {},
   "source": [
    "# Multi-layer neural network"
   ]
  },
  {
   "cell_type": "markdown",
   "metadata": {},
   "source": [
    "Great! You stay with me so far! We arrive at the gist of my post. I hope that with what you have seen, you are convinced that artificial neuron can be used in multiple application; we just have to define our synapses and the activation function.\n",
    "\n",
    "A multi-layer neural network is a stack of multiple layers of neurone, each with their own synapses and activation function. In this article, we will use only the sigmoid function as activation function.\n",
    "\n",
    "Below, we can see two representation of the Neural Network (NN). \n",
    "1. There is an *input layer*. This layer is not a computational layer, it only captures the characteristics and passes it to the other layers\n",
    "2. Then, there are the *hidden layers* (in the example, the hidden layers have 3 units or neurons)\n",
    "3. Finally, there is the *output layer*"
   ]
  },
  {
   "cell_type": "markdown",
   "metadata": {},
   "source": [
    "![Representation of a neural network](representation_nn.png)"
   ]
  },
  {
   "cell_type": "markdown",
   "metadata": {},
   "source": [
    "## Feed-forward network"
   ]
  },
  {
   "cell_type": "markdown",
   "metadata": {},
   "source": [
    "The architecture of a neural network is how the neurons are connected with each other. We will study only one type of achitecture: the feed-forward network. it is composed of successive layers feeding into one another in the forward direction from input to output.\n",
    "\n",
    "Let's suppose that (Sorry, but we will need some notations. Try to understand those, it will help for the rest :) ):\n",
    "* we have a network with $d$ units in the input layers ($d=5$ in our example)\n",
    "* we have $p_k$ units in the hidden layer $k$ ($p_k= 3$ in our example)\n",
    "* we have $p$ units in the output layer\n",
    "\n",
    "From the input layer to first hidden layer: $h_1 = \\Phi(\\Theta_1^T X)$ with $\\Theta_1$ being a $d \\times p_1$ matrix and containing the synapses of the $p_1$ units. $z_1 := \\Theta_1^T X$ is the *pre-activation value* and $h_1:=\\Phi(\\Theta_1^T X)$ is the *post-activation value*. $\\Phi$ is the activation function\n",
    "\n",
    "From the first hidden layer to the second: $h_2 = \\Phi(\\Theta_2^T h_1)$\n",
    "\n",
    "And so on...\n",
    "\n",
    "Hence, the idea of the Neural Network is to successively create new features $h_k$ which will ease the discriminatory role of the activation function."
   ]
  },
  {
   "cell_type": "markdown",
   "metadata": {},
   "source": [
    "## Learning process"
   ]
  },
  {
   "cell_type": "markdown",
   "metadata": {},
   "source": [
    "The learning process of the feed-forward NN is less straightfoward than the LRC's learning process. This is due to the fact that the output value is not directly dependant of the inputs values. Hence the gradient is not easily computable.\n",
    "\n",
    "So we implement:"
   ]
  },
  {
   "cell_type": "markdown",
   "metadata": {},
   "source": [
    "* A **Forward phase**: to compute all the post-activation values $h_k$ throughout the network, including the output value and the Cost function $J(\\Theta_1,\\dots,\\Theta_K)$ (with $K$ being the number of layers). Here the Cost function similar to the one we have encounter for the Logistic Regression classifier. However, as the number of classes maybe higher than 2 ($p>2$), each unit in the output layer will represent a one-vs-all classifier. So the cost is:\n",
    "$$J(\\Theta_1,\\dots,\\Theta_K)=-\\frac{1}{n}\\sum_{i=1}^{n}\\sum_{j=1}^{p}\\bigg(y_{i,j}log(h_{i,j})+(1-y_{i,j})log(1-h_{i,j})\\bigg)$$\n",
    "\n",
    "$h$ being the post-activation values of the output layer\n",
    "\n",
    "* then a **Backward phase**: The role of this phase is to compute the gradient of the cost with respect to the inputs \n",
    "* Finally an **Optimization phase**: Like in the case we LRC, the goal is to find the parameters which minimize the cost function"
   ]
  },
  {
   "cell_type": "markdown",
   "metadata": {},
   "source": [
    "### Practice: "
   ]
  },
  {
   "cell_type": "markdown",
   "metadata": {},
   "source": [
    "For this example, we will use a dataset on hand-written numbers from 0 to 9. There are 5000 such number, they are represented by 20\\*20 (400) pixels. For modelling, we will use a Feed forward NN with 3 layers: one input layer with 400 units (+ 1 bias unit), one hidden layer with 25 units (+ 1 bias unit) and one output layer with 10 units."
   ]
  },
  {
   "cell_type": "code",
   "execution_count": 286,
   "metadata": {},
   "outputs": [],
   "source": [
    "y = pd.read_csv(\"Datasets/target.csv\",header=None,names=[\"target\"])\n",
    "X = pd.read_csv(\"Datasets/character.csv\",header=None)\n",
    "feature_trick =np.repeat(1,X.shape[0])\n",
    "X.insert(0,\"bias\",feature_trick)"
   ]
  },
  {
   "cell_type": "code",
   "execution_count": 289,
   "metadata": {},
   "outputs": [],
   "source": [
    "Theta1 = pd.read_csv(\"Datasets/Theta1.csv\",header=None)\n",
    "Theta2 = pd.read_csv(\"Datasets/Theta2.csv\",header=None)\n",
    "Theta1 = np.matrix(Theta1)\n",
    "Theta2 = np.matrix(Theta2)"
   ]
  },
  {
   "cell_type": "code",
   "execution_count": 288,
   "metadata": {},
   "outputs": [],
   "source": [
    "X=np.matrix(X)\n",
    "y=np.matrix(y)"
   ]
  },
  {
   "cell_type": "code",
   "execution_count": 287,
   "metadata": {},
   "outputs": [
    {
     "data": {
      "text/plain": [
       "(5000, 401)"
      ]
     },
     "execution_count": 287,
     "metadata": {},
     "output_type": "execute_result"
    }
   ],
   "source": [
    "X.shape"
   ]
  },
  {
   "cell_type": "code",
   "execution_count": 408,
   "metadata": {},
   "outputs": [
    {
     "name": "stdout",
     "output_type": "stream",
     "text": [
      "(25, 401)\n",
      "(10, 26)\n"
     ]
    }
   ],
   "source": [
    "print(Theta1.shape)\n",
    "print(Theta2.shape)"
   ]
  },
  {
   "cell_type": "markdown",
   "metadata": {},
   "source": [
    "* Forward phase"
   ]
  },
  {
   "cell_type": "code",
   "execution_count": 402,
   "metadata": {},
   "outputs": [],
   "source": [
    "def activation_function(X):\n",
    "    res = 1.0/(1.0+np.exp(-X))\n",
    "    return res"
   ]
  },
  {
   "cell_type": "code",
   "execution_count": 456,
   "metadata": {},
   "outputs": [],
   "source": [
    "def Forward_phase_nn(X,y,Theta_1,Theta_2):\n",
    "    # From input layer to first hidden layer\n",
    "    n= X.shape[0]\n",
    "    \n",
    "    pre_activation_1 = X.dot(Theta_1.T)\n",
    "    post_activation_1 = activation_function(pre_activation_1)\n",
    "    \n",
    "    bias = np.matrix(np.repeat(1,post_activation_1.shape[0]))\n",
    "    post_activation_1 = np.append(bias.T,post_activation_1,axis=1)\n",
    "    \n",
    "    pre_activation_2 = post_activation_1.dot(Theta_2.T)\n",
    "    output = activation_function(pre_activation_2)\n",
    "    \n",
    "    target = np.zeros((y.shape[0],10))\n",
    "    for index, x in enumerate(y.tolist()):\n",
    "        target[index,x[0]-1]=1\n",
    "        \n",
    "    term_A = np.multiply(target,np.log(output))\n",
    "    term_B = np.multiply((1-target),np.log(1-output))\n",
    "    summation = term_A + term_B\n",
    "    \n",
    "    J = (-1/n)*(summation.sum())\n",
    "    \n",
    "    return {\"prediction\":output,\"cost\":J,\"target\":target,\"z_1\":pre_activation_1}"
   ]
  },
  {
   "cell_type": "code",
   "execution_count": 457,
   "metadata": {},
   "outputs": [],
   "source": [
    "test = Forward_phase_nn(X,y,Theta1,Theta2)"
   ]
  },
  {
   "cell_type": "code",
   "execution_count": 458,
   "metadata": {},
   "outputs": [
    {
     "data": {
      "text/plain": [
       "0.2876291651613189"
      ]
     },
     "execution_count": 458,
     "metadata": {},
     "output_type": "execute_result"
    }
   ],
   "source": [
    "test[\"cost\"]"
   ]
  },
  {
   "cell_type": "markdown",
   "metadata": {},
   "source": [
    "* Backward phase"
   ]
  },
  {
   "cell_type": "markdown",
   "metadata": {},
   "source": [
    "As I said, the Backward phase tries to compute: $\\frac{\\partial J}{\\partial \\Theta}$. This algorithm is explained in this [post](https://towardsdatascience.com/backward-propagation-for-feed-forward-networks-afdf9d038d21)"
   ]
  },
  {
   "cell_type": "code",
   "execution_count": 428,
   "metadata": {},
   "outputs": [],
   "source": [
    "def sigmoid_derivative(z):\n",
    "    res=np.multiply(activation_function(z),(1-activation_function(z)))\n",
    "    return res"
   ]
  },
  {
   "cell_type": "code",
   "execution_count": 429,
   "metadata": {},
   "outputs": [],
   "source": [
    "def backward_phase_nn(Theta_1,Theta_2,X,Forward_phase_result):\n",
    "    n= X.shape[0]\n",
    "    sigma3 = Forward_phase_result[\"prediction\"]-Forward_phase_result[\"target\"]\n",
    "    \n",
    "    z_1 = Forward_phase_result[\"z_1\"]\n",
    "    bias = np.matrix(np.repeat(1,z_1.shape[0]))\n",
    "    z_1_bias = np.append(bias.T,z_1,axis=1)\n",
    "    \n",
    "    post_z_1 = np.append(bias.T,activation_function(z_1),axis=1)\n",
    "    \n",
    "    sigma2 = np.multiply(sigma3.dot(Theta_2), sigmoid_derivative(z_1_bias))[:,1:]\n",
    "    \n",
    "    Delta_1 = (1/n)*sigma2.T.dot(X)\n",
    "    Delta_2 = (1/n)*sigma3.T.dot(post_z_1)\n",
    "    \n",
    "    return({\"Theta1_grad\":Delta_1,\"Theta2_grad\":Delta_2})"
   ]
  },
  {
   "cell_type": "code",
   "execution_count": 430,
   "metadata": {},
   "outputs": [],
   "source": [
    "back_test = backward_phase_nn(Theta1,Theta2,X,test)"
   ]
  },
  {
   "cell_type": "code",
   "execution_count": 462,
   "metadata": {},
   "outputs": [],
   "source": [
    "def gradient_descent_nn(X,y,Theta_1,Theta_2,learning_rate,iter_limit=100):\n",
    "    \n",
    "    theta1_temp=Theta_1\n",
    "    theta2_temp=Theta_2\n",
    "    \n",
    "    costs=[]\n",
    "    i=0\n",
    "    while i<iter_limit:\n",
    "        feedforward =Forward_phase_nn(X,y,theta1_temp,theta2_temp)\n",
    "        backward = backward_phase_nn(theta1_temp,theta2_temp,X,feedforward)\n",
    "        gradient1 = backward[\"Theta1_grad\"]\n",
    "        gradient2 = backward[\"Theta2_grad\"]\n",
    "        \n",
    "        costs.append(feedforward[\"cost\"])\n",
    "        #print(theta2_temp[1,:])\n",
    "        theta1_temp = theta1_temp - (learning_rate)*gradient1\n",
    "        theta2_temp = theta2_temp - (learning_rate)*gradient2\n",
    "        i=i+1\n",
    "    \n",
    "    return({\"theta1_final\":theta1_temp,\"theta2_final\":theta2_temp,\"costs\":costs})"
   ]
  },
  {
   "cell_type": "code",
   "execution_count": 473,
   "metadata": {},
   "outputs": [],
   "source": [
    "gradient_descent_ = gradient_descent_nn(X,y,Theta1,Theta2,0.5,iter_limit=5000)"
   ]
  },
  {
   "cell_type": "code",
   "execution_count": 474,
   "metadata": {},
   "outputs": [
    {
     "data": {
      "image/png": "[encoded data removed]",
      "text/plain": [
       "<Figure size 720x576 with 1 Axes>"
      ]
     },
     "metadata": {
      "needs_background": "light"
     },
     "output_type": "display_data"
    }
   ],
   "source": [
    "fi,ax=plt.subplots()\n",
    "ax.set_title(\"the evolution of the Cost through the gradient descent\")\n",
    "pd.DataFrame(gradient_descent_[\"costs\"]).plot.line(ax=ax,figsize=(10,8))\n",
    "plt.show()"
   ]
  },
  {
   "cell_type": "code",
   "execution_count": 435,
   "metadata": {},
   "outputs": [
    {
     "data": {
      "text/plain": [
       "(10, 26)"
      ]
     },
     "execution_count": 435,
     "metadata": {},
     "output_type": "execute_result"
    }
   ],
   "source": [
    "Theta2.shape"
   ]
  },
  {
   "cell_type": "markdown",
   "metadata": {},
   "source": [
    "# Reading "
   ]
  },
  {
   "cell_type": "markdown",
   "metadata": {},
   "source": [
    "https://mlfromscratch.com/neural-networks-explained/#/"
   ]
  },
  {
   "cell_type": "markdown",
   "metadata": {},
   "source": [
    "https://medium.com/machine-learning-for-li/explain-feedforward-and-backpropagation-b8cdd25dcc2f"
   ]
  },
  {
   "cell_type": "markdown",
   "metadata": {},
   "source": [
    "https://towardsdatascience.com/backward-propagation-for-feed-forward-networks-afdf9d038d21"
   ]
  }
 ],
 "metadata": {
  "kernelspec": {
   "display_name": "Python 3",
   "language": "python",
   "name": "python3"
  },
  "language_info": {
   "codemirror_mode": {
    "name": "ipython",
    "version": 3
   },
   "file_extension": ".py",
   "mimetype": "text/x-python",
   "name": "python",
   "nbconvert_exporter": "python",
   "pygments_lexer": "ipython3",
   "version": "3.8.1"
  }
 },
 "nbformat": 4,
 "nbformat_minor": 4
}
