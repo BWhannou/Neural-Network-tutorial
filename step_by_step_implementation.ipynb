{
 "cells": [
  {
   "cell_type": "markdown",
   "metadata": {},
   "source": [
    "# Introduction"
   ]
  },
  {
   "cell_type": "markdown",
   "metadata": {},
   "source": [
    "Neural networks are a type machine learning algorithms developped to solved classification or regression problem. They mimic the way our humain brain works.\n",
    "\n",
    "Let's go in the shoes of a brillant doctor (if you are a TV show savvy like me, you can choose to be Dr House, Dr Aaron Glassman or Dr Cristina Yang) and explain how the brain works. The brain is a collection of neurons linked with one another. They are composed with multiple *dentrites* and an *axon*. those elements allow the neurons to be connected to each other. The physical location where the neurons are connected is called *synapses*. The intensity of this connection is variable. \n",
    "\n"
   ]
  }
 ],
 "metadata": {
  "kernelspec": {
   "display_name": "Python 3",
   "language": "python",
   "name": "python3"
  },
  "language_info": {
   "codemirror_mode": {
    "name": "ipython",
    "version": 3
   },
   "file_extension": ".py",
   "mimetype": "text/x-python",
   "name": "python",
   "nbconvert_exporter": "python",
   "pygments_lexer": "ipython3",
   "version": "3.8.1"
  }
 },
 "nbformat": 4,
 "nbformat_minor": 4
}
